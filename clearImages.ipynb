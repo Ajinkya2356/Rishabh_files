{
 "cells": [
  {
   "cell_type": "code",
   "execution_count": 1,
   "metadata": {},
   "outputs": [
    {
     "name": "stdout",
     "output_type": "stream",
     "text": [
      "WARNING:tensorflow:From c:\\Users\\Dell\\AppData\\Local\\Programs\\Python\\Python312\\Lib\\site-packages\\tf_keras\\src\\losses.py:2976: The name tf.losses.sparse_softmax_cross_entropy is deprecated. Please use tf.compat.v1.losses.sparse_softmax_cross_entropy instead.\n",
      "\n",
      "WARNING:tensorflow:From c:\\Users\\Dell\\AppData\\Local\\Programs\\Python\\Python312\\Lib\\site-packages\\tensorflow_hub\\resolver.py:120: The name tf.gfile.MakeDirs is deprecated. Please use tf.io.gfile.makedirs instead.\n",
      "\n"
     ]
    },
    {
     "name": "stderr",
     "output_type": "stream",
     "text": [
      "WARNING:tensorflow:From c:\\Users\\Dell\\AppData\\Local\\Programs\\Python\\Python312\\Lib\\site-packages\\tensorflow_hub\\resolver.py:120: The name tf.gfile.MakeDirs is deprecated. Please use tf.io.gfile.makedirs instead.\n",
      "\n"
     ]
    },
    {
     "name": "stdout",
     "output_type": "stream",
     "text": [
      "WARNING:tensorflow:From c:\\Users\\Dell\\AppData\\Local\\Programs\\Python\\Python312\\Lib\\site-packages\\tensorflow_hub\\module_v2.py:126: The name tf.saved_model.load_v2 is deprecated. Please use tf.compat.v2.saved_model.load instead.\n",
      "\n"
     ]
    },
    {
     "name": "stderr",
     "output_type": "stream",
     "text": [
      "WARNING:tensorflow:From c:\\Users\\Dell\\AppData\\Local\\Programs\\Python\\Python312\\Lib\\site-packages\\tensorflow_hub\\module_v2.py:126: The name tf.saved_model.load_v2 is deprecated. Please use tf.compat.v2.saved_model.load instead.\n",
      "\n"
     ]
    }
   ],
   "source": [
    "import cv2\n",
    "import numpy as np\n",
    "import matplotlib.pyplot as plt\n",
    "import tensorflow as tf\n",
    "import tensorflow_hub as hub\n",
    "\n",
    "# Load the ESRGAN model\n",
    "esrgan_model = hub.load(\"https://tfhub.dev/captain-pool/esrgan-tf2/1\")\n",
    "\n",
    "def apply_super_resolution(image):\n",
    "    # Convert the image to RGB|\n",
    "    image_rgb = cv2.cvtColor(image, cv2.COLOR_GRAY2RGB)\n",
    "    # Convert the image to a tensor\n",
    "    image_tensor = tf.convert_to_tensor(image_rgb, dtype=tf.float32)\n",
    "    image_tensor = tf.expand_dims(image_tensor, 0)\n",
    "    # Apply the ESRGAN model\n",
    "    sr_image_tensor = esrgan_model(image_tensor)\n",
    "    sr_image = tf.squeeze(sr_image_tensor).numpy()\n",
    "    return sr_image"
   ]
  },
  {
   "cell_type": "code",
   "execution_count": null,
   "metadata": {},
   "outputs": [],
   "source": [
    "import os\n",
    "import random\n",
    "from tqdm import tqdm\n",
    "import cv2\n",
    "\n",
    "input_dir = './difference.png'\n",
    "output_dir = './'\n",
    "\n",
    "# Get a list of all files in the input directory\n",
    "\"\"\" all_files = os.listdir(input_dir) \"\"\"\n",
    "\n",
    "# Filter out non-image files (optional)\n",
    "\"\"\" image_files = [f for f in all_files if f.endswith(('.png', '.jpg', '.jpeg', '.bmp', '.tiff'))] \"\"\"\n",
    "\n",
    "# Select 500 random images\n",
    "\"\"\" random_images = random.sample(image_files, 1000) \"\"\"\n",
    "\n",
    "# Ensure the output directory exists\n",
    "\"\"\" os.makedirs(output_dir, exist_ok=True) \"\"\"\n",
    "\n",
    "\n",
    "image = cv2.imread(input_dir, cv2.IMREAD_GRAYSCALE)\n",
    "\n",
    "# Apply super resolution\n",
    "sr_image = apply_super_resolution(image)\n",
    "\n",
    "# Save the high-resolution image\n",
    "output_path = os.path.join(output_dir, \"1.png\")\n",
    "cv2.imwrite(output_path, sr_image)"
   ]
  },
  {
   "cell_type": "code",
   "execution_count": null,
   "metadata": {},
   "outputs": [],
   "source": []
  }
 ],
 "metadata": {
  "kernelspec": {
   "display_name": "Python 3",
   "language": "python",
   "name": "python3"
  },
  "language_info": {
   "codemirror_mode": {
    "name": "ipython",
    "version": 3
   },
   "file_extension": ".py",
   "mimetype": "text/x-python",
   "name": "python",
   "nbconvert_exporter": "python",
   "pygments_lexer": "ipython3",
   "version": "3.12.3"
  }
 },
 "nbformat": 4,
 "nbformat_minor": 2
}
