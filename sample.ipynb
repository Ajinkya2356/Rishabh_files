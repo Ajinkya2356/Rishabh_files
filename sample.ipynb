{
 "cells": [
  {
   "cell_type": "code",
   "execution_count": 5,
   "metadata": {},
   "outputs": [
    {
     "name": "stdout",
     "output_type": "stream",
     "text": [
      "\u001b[1m1/1\u001b[0m \u001b[32m━━━━━━━━━━━━━━━━━━━━\u001b[0m\u001b[37m\u001b[0m \u001b[1m5s\u001b[0m 5s/step\n",
      "The image is Right\n"
     ]
    }
   ],
   "source": [
    "import tensorflow as tf\n",
    "from tensorflow.keras.applications import EfficientNetB0\n",
    "from tensorflow.keras.models import Model\n",
    "from tensorflow.keras.layers import Dense, Flatten, Dropout, GlobalAveragePooling2D, Conv2D, MaxPooling2D, BatchNormalization\n",
    "import numpy as np\n",
    "from PIL import Image\n",
    "\n",
    "# Define your model architecture\n",
    "def create_model():\n",
    "    base_model = EfficientNetB0(weights='imagenet', include_top=False, input_shape=(224, 224, 3))\n",
    "    \n",
    "    # Freeze the base model\n",
    "    base_model.trainable = False\n",
    "    \n",
    "    # Add custom layers on top of the base model\n",
    "    x = base_model.output\n",
    "    x = Conv2D(256, (3, 3), activation='relu', padding='same')(x)\n",
    "    x = BatchNormalization()(x)\n",
    "    x = MaxPooling2D((2, 2))(x)\n",
    "    x = Conv2D(128, (3, 3), activation='relu', padding='same')(x)\n",
    "    x = BatchNormalization()(x)\n",
    "    x = MaxPooling2D((2, 2))(x)\n",
    "    x = GlobalAveragePooling2D()(x)\n",
    "    x = Dense(512, activation='relu', kernel_regularizer=tf.keras.regularizers.l2(0.01))(x)\n",
    "    x = Dropout(0.5)(x)\n",
    "    predictions = Dense(1, activation='sigmoid')(x)\n",
    "    \n",
    "    model = Model(inputs=base_model.input, outputs=predictions)\n",
    "    return model\n",
    "\n",
    "# Load your model weights\n",
    "def load_my_model():\n",
    "    model = create_model()\n",
    "    model.load_weights('best_model.weights.h5')  # Load the weights\n",
    "    return model\n",
    "\n",
    "model = load_my_model()\n",
    "\n",
    "# Image preprocessing function\n",
    "def preprocess_image(image):\n",
    "    image = image.resize((224, 224))  # Adjust size as per your model\n",
    "    image = image.convert('RGB')  # Ensure image has 3 color channels\n",
    "    image = np.array(image) / 255.0  # Normalize the image\n",
    "    image = np.expand_dims(image, axis=0)  # Add batch dimension\n",
    "    return image\n",
    "\n",
    "# Prediction function\n",
    "def predict(image_path):\n",
    "    image = Image.open(image_path)\n",
    "    preprocessed_image = preprocess_image(image)\n",
    "    prediction = model.predict(preprocessed_image)\n",
    "    predicted_class = (prediction > 0.5).astype(\"int32\")  # Assuming binary classification\n",
    "    return \"Right\" if predicted_class[0][0] == 1 else \"Wrong\"\n",
    "\n",
    "# Example usage\n",
    "image_path = './Analog Section/train/class 0/fault_3.png'\n",
    "result = predict(image_path)\n",
    "print(f\"The image is {result}\")"
   ]
  },
  {
   "cell_type": "code",
   "execution_count": null,
   "metadata": {},
   "outputs": [],
   "source": []
  }
 ],
 "metadata": {
  "kernelspec": {
   "display_name": "Python 3",
   "language": "python",
   "name": "python3"
  },
  "language_info": {
   "codemirror_mode": {
    "name": "ipython",
    "version": 3
   },
   "file_extension": ".py",
   "mimetype": "text/x-python",
   "name": "python",
   "nbconvert_exporter": "python",
   "pygments_lexer": "ipython3",
   "version": "3.12.3"
  }
 },
 "nbformat": 4,
 "nbformat_minor": 2
}
